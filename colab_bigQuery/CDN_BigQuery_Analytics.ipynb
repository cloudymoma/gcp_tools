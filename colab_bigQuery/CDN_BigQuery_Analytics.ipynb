{
  "nbformat": 4,
  "nbformat_minor": 0,
  "metadata": {
    "colab": {
      "name": "CDN-BigQuery-Analytics.ipynb",
      "provenance": [],
      "collapsed_sections": []
    },
    "kernelspec": {
      "name": "python3",
      "display_name": "Python 3"
    }
  },
  "cells": [
    {
      "cell_type": "markdown",
      "metadata": {
        "id": "Rk2VYwZWHN3j",
        "colab_type": "text"
      },
      "source": [
        "# Init BQ Auth"
      ]
    },
    {
      "cell_type": "code",
      "metadata": {
        "id": "jI6QFYpldqWM",
        "colab_type": "code",
        "colab": {
          "base_uri": "https://localhost:8080/",
          "height": 34
        },
        "outputId": "61528cf1-49e3-4276-dd71-f92cda62453c"
      },
      "source": [
        "from google.colab import auth\n",
        "auth.authenticate_user()\n",
        "print('Authenticated')\n",
        "project_id='your-project-id' #@param{type:\"string\"}\n",
        "%load_ext google.colab.data_table"
      ],
      "execution_count": null,
      "outputs": [
        {
          "output_type": "stream",
          "text": [
            "Authenticated\n"
          ],
          "name": "stdout"
        }
      ]
    },
    {
      "cell_type": "markdown",
      "metadata": {
        "colab_type": "text",
        "id": "5nEciXFEgiLl"
      },
      "source": [
        "# egress data usage by day, Bigquery SDK\n",
        "## Last day and domain"
      ]
    },
    {
      "cell_type": "code",
      "metadata": {
        "colab_type": "code",
        "id": "7tuYyzLMgiLr",
        "colab": {
          "base_uri": "https://localhost:8080/",
          "height": 110
        },
        "outputId": "532bcb64-6e7b-4d8e-82c7-77d66f4c80bf"
      },
      "source": [
        "from google.cloud import bigquery\n",
        "client = bigquery.Client(project=project_id)\n",
        "\n",
        "df = client.query('''\n",
        "SELECT\n",
        "  EXTRACT (DATE\n",
        "  FROM\n",
        "    timestamp AT TIME ZONE \"Asia/Shanghai\") AS Date,\n",
        "    NET.HOST(httpRequest.requestUrl) as Domain,\n",
        "  SUM(httpRequest.responseSize)/1024/1024/1024 AS response_GB\n",
        "FROM\n",
        "  `ds_us.requests`\n",
        "WHERE ((httpRequest.userAgent not like '%Cloud-CDN-Google%') or (httpRequest.userAgent is NULL))\n",
        "and EXTRACT(DATE FROM timestamp AT TIME ZONE \"Asia/Shanghai\") = DATE_ADD(CURRENT_DATE('Asia/Shanghai'), INTERVAL -1 DAY)\n",
        "GROUP BY\n",
        "  Date, Domain\n",
        "ORDER BY\n",
        "  Date ASC, response_GB DESC\n",
        "''' ).to_dataframe()\n",
        "df.head(20)"
      ],
      "execution_count": null,
      "outputs": [
        {
          "output_type": "execute_result",
          "data": {
            "application/vnd.google.colaboratory.module+javascript": "\n      import \"https://ssl.gstatic.com/colaboratory/data_table/a6224c040fa35dcf/data_table.js\";\n\n      window.createDataTable({\n        data: [[{\n            'v': 0,\n            'f': \"0\",\n        },\n\"2020-07-27\",\n\"cdn-2020-t2.wshareit.com\",\n{\n            'v': 30.155620377510786,\n            'f': \"30.155620377510786\",\n        }]],\n        columns: [[\"number\", \"index\"], [\"string\", \"Date\"], [\"string\", \"Domain\"], [\"number\", \"response_GB\"]],\n        columnOptions: [{\"width\": \"1px\", \"className\": \"index_column\"}],\n        rowsPerPage: 25,\n        helpUrl: \"https://colab.research.google.com/notebooks/data_table.ipynb\",\n        suppressOutputScrolling: true,\n        minimumWidth: undefined,\n      });\n    ",
            "text/html": [
              "<div>\n",
              "<style scoped>\n",
              "    .dataframe tbody tr th:only-of-type {\n",
              "        vertical-align: middle;\n",
              "    }\n",
              "\n",
              "    .dataframe tbody tr th {\n",
              "        vertical-align: top;\n",
              "    }\n",
              "\n",
              "    .dataframe thead th {\n",
              "        text-align: right;\n",
              "    }\n",
              "</style>\n",
              "<table border=\"1\" class=\"dataframe\">\n",
              "  <thead>\n",
              "    <tr style=\"text-align: right;\">\n",
              "      <th></th>\n",
              "      <th>Date</th>\n",
              "      <th>Domain</th>\n",
              "      <th>response_GB</th>\n",
              "    </tr>\n",
              "  </thead>\n",
              "  <tbody>\n",
              "    <tr>\n",
              "      <th>0</th>\n",
              "      <td>2020-07-27</td>\n",
              "      <td>cdn-2020-t2.wshareit.com</td>\n",
              "      <td>30.15562</td>\n",
              "    </tr>\n",
              "  </tbody>\n",
              "</table>\n",
              "</div>"
            ],
            "text/plain": [
              "         Date                    Domain  response_GB\n",
              "0  2020-07-27  cdn-2020-t2.wshareit.com     30.15562"
            ]
          },
          "metadata": {
            "tags": []
          },
          "execution_count": 2
        }
      ]
    },
    {
      "cell_type": "markdown",
      "metadata": {
        "id": "29zCaU0lfr3X",
        "colab_type": "text"
      },
      "source": [
        "# CDN bandwidth usage calculation"
      ]
    },
    {
      "cell_type": "code",
      "metadata": {
        "id": "RvN_1Bm9dadO",
        "colab_type": "code",
        "colab": {
          "base_uri": "https://localhost:8080/",
          "height": 152
        },
        "outputId": "6205e619-eac5-4a15-c74b-738f95b4b5fb"
      },
      "source": [
        "%%bigquery --project {project_id}\n",
        "WITH\n",
        "  bandwidth_sec AS (\n",
        "  SELECT\n",
        "    TIMESTAMP_TRUNC(timestamp, DAY) AS Date,\n",
        "    TIMESTAMP_TRUNC(timestamp, SECOND) AS Time,\n",
        "    SUM(httpRequest.responseSize)*8 AS bps\n",
        "  FROM\n",
        "    `ds_us.requests` as requests\n",
        "    WHERE\n",
        "\t(((requests.timestamp ) >= ((TIMESTAMP(FORMAT_TIMESTAMP('%F %H:%M:%E*S', TIMESTAMP_ADD(TIMESTAMP_TRUNC(TIMESTAMP(FORMAT_TIMESTAMP('%F %H:%M:%E*S', CURRENT_TIMESTAMP(), 'Asia/Shanghai')), DAY), INTERVAL -5 DAY)), 'Asia/Shanghai'))) AND (requests.timestamp ) < ((TIMESTAMP(FORMAT_TIMESTAMP('%F %H:%M:%E*S', TIMESTAMP_ADD(TIMESTAMP_ADD(TIMESTAMP_TRUNC(TIMESTAMP(FORMAT_TIMESTAMP('%F %H:%M:%E*S', CURRENT_TIMESTAMP(), 'Asia/Shanghai')), DAY), INTERVAL -5 DAY), INTERVAL 5 DAY)), 'Asia/Shanghai')))))\n",
        "  GROUP BY\n",
        "    Date,\n",
        "    Time\n",
        "  ORDER BY\n",
        "    Date,\n",
        "    Time ASC)\n",
        "SELECT\n",
        "  Date,\n",
        "  AVG(Mbps) AS Mbps\n",
        "FROM (\n",
        "  SELECT\n",
        "    Date,\n",
        "    (NTH_VALUE(bps, 15) OVER (PARTITION BY Date ORDER BY bps DESC ROWS BETWEEN UNBOUNDED PRECEDING AND UNBOUNDED FOLLOWING))/1024/1024 AS Mbps\n",
        "  FROM (\n",
        "    SELECT\n",
        "      Date,\n",
        "      Time,\n",
        "      bps,\n",
        "      MOD(UNIX_SECONDS(Time), 300) AS sec_counter\n",
        "    FROM\n",
        "      bandwidth_sec)\n",
        "  WHERE\n",
        "    sec_counter=0\n",
        "  ORDER BY\n",
        "    Date,\n",
        "    bps DESC)\n",
        "GROUP BY\n",
        "  Date\n",
        "ORDER BY\n",
        "  Date ASC"
      ],
      "execution_count": null,
      "outputs": [
        {
          "output_type": "execute_result",
          "data": {
            "application/vnd.google.colaboratory.module+javascript": "\n      import \"https://ssl.gstatic.com/colaboratory/data_table/a6224c040fa35dcf/data_table.js\";\n\n      window.createDataTable({\n        data: [[{\n            'v': 0,\n            'f': \"0\",\n        },\n\"2020-07-09 00:00:00+00:00\",\n{\n            'v': NaN,\n            'f': \"NaN\",\n        }],\n [{\n            'v': 1,\n            'f': \"1\",\n        },\n\"2020-07-10 00:00:00+00:00\",\n{\n            'v': NaN,\n            'f': \"NaN\",\n        }],\n [{\n            'v': 2,\n            'f': \"2\",\n        },\n\"2020-07-11 00:00:00+00:00\",\n{\n            'v': 16.538597106933594,\n            'f': \"16.538597106933594\",\n        }]],\n        columns: [[\"number\", \"index\"], [\"string\", \"Date\"], [\"number\", \"Mbps\"]],\n        columnOptions: [{\"width\": \"1px\", \"className\": \"index_column\"}],\n        rowsPerPage: 25,\n        helpUrl: \"https://colab.research.google.com/notebooks/data_table.ipynb\",\n        suppressOutputScrolling: true,\n        minimumWidth: undefined,\n      });\n    ",
            "text/html": [
              "<div>\n",
              "<style scoped>\n",
              "    .dataframe tbody tr th:only-of-type {\n",
              "        vertical-align: middle;\n",
              "    }\n",
              "\n",
              "    .dataframe tbody tr th {\n",
              "        vertical-align: top;\n",
              "    }\n",
              "\n",
              "    .dataframe thead th {\n",
              "        text-align: right;\n",
              "    }\n",
              "</style>\n",
              "<table border=\"1\" class=\"dataframe\">\n",
              "  <thead>\n",
              "    <tr style=\"text-align: right;\">\n",
              "      <th></th>\n",
              "      <th>Date</th>\n",
              "      <th>Mbps</th>\n",
              "    </tr>\n",
              "  </thead>\n",
              "  <tbody>\n",
              "    <tr>\n",
              "      <th>0</th>\n",
              "      <td>2020-07-09 00:00:00+00:00</td>\n",
              "      <td>NaN</td>\n",
              "    </tr>\n",
              "    <tr>\n",
              "      <th>1</th>\n",
              "      <td>2020-07-10 00:00:00+00:00</td>\n",
              "      <td>NaN</td>\n",
              "    </tr>\n",
              "    <tr>\n",
              "      <th>2</th>\n",
              "      <td>2020-07-11 00:00:00+00:00</td>\n",
              "      <td>16.538597</td>\n",
              "    </tr>\n",
              "  </tbody>\n",
              "</table>\n",
              "</div>"
            ],
            "text/plain": [
              "                       Date       Mbps\n",
              "0 2020-07-09 00:00:00+00:00        NaN\n",
              "1 2020-07-10 00:00:00+00:00        NaN\n",
              "2 2020-07-11 00:00:00+00:00  16.538597"
            ]
          },
          "metadata": {
            "tags": []
          },
          "execution_count": 2
        }
      ]
    },
    {
      "cell_type": "markdown",
      "metadata": {
        "colab_type": "text",
        "id": "K5n0SmC6Serk"
      },
      "source": [
        "# egress data usage by day, Bigquery SDK\n",
        "## Last day and domain"
      ]
    },
    {
      "cell_type": "code",
      "metadata": {
        "colab_type": "code",
        "id": "mMbVUOx0Serm",
        "colab": {
          "base_uri": "https://localhost:8080/",
          "height": 152
        },
        "outputId": "1f705bec-2b19-4e4d-c987-2ba1991a67b2"
      },
      "source": [
        "from google.cloud import bigquery\n",
        "client = bigquery.Client(project=project_id)\n",
        "\n",
        "df = client.query('''\n",
        "SELECT\n",
        "  EXTRACT (DATE\n",
        "  FROM\n",
        "    timestamp AT TIME ZONE \"Asia/Shanghai\") AS Date,\n",
        "    NET.HOST(httpRequest.requestUrl) as Domain,\n",
        "  SUM(httpRequest.responseSize)/1024/1024/1024 AS response_GB\n",
        "FROM\n",
        "  `ds_us.requests`\n",
        "WHERE ((httpRequest.userAgent not like '%Cloud-CDN-Google%') or (httpRequest.userAgent is NULL))\n",
        "and EXTRACT(DATE FROM timestamp AT TIME ZONE \"Asia/Shanghai\") = DATE_ADD(CURRENT_DATE('Asia/Shanghai'), INTERVAL -1 DAY)\n",
        "GROUP BY\n",
        "  Date, Domain\n",
        "ORDER BY\n",
        "  Date ASC, response_GB DESC\n",
        "''' ).to_dataframe()\n",
        "df.head(20)"
      ],
      "execution_count": null,
      "outputs": [
        {
          "output_type": "execute_result",
          "data": {
            "application/vnd.google.colaboratory.module+javascript": "\n      import \"https://ssl.gstatic.com/colaboratory/data_table/a6224c040fa35dcf/data_table.js\";\n\n      window.createDataTable({\n        data: [[{\n            'v': 0,\n            'f': \"0\",\n        },\n\"2020-08-13\",\n\"34.120.250.131\",\n{\n            'v': 0.000300699844956398,\n            'f': \"0.000300699844956398\",\n        }],\n [{\n            'v': 1,\n            'f': \"1\",\n        },\n\"2020-08-13\",\n\"127.0.0.1\",\n{\n            'v': 1.3047829270362854e-06,\n            'f': \"1.3047829270362854e-06\",\n        }],\n [{\n            'v': 2,\n            'f': \"2\",\n        },\n\"2020-08-13\",\n\"185.172.110.185\",\n{\n            'v': 1.1436641216278076e-06,\n            'f': \"1.1436641216278076e-06\",\n        }]],\n        columns: [[\"number\", \"index\"], [\"string\", \"Date\"], [\"string\", \"Domain\"], [\"number\", \"response_GB\"]],\n        columnOptions: [{\"width\": \"1px\", \"className\": \"index_column\"}],\n        rowsPerPage: 25,\n        helpUrl: \"https://colab.research.google.com/notebooks/data_table.ipynb\",\n        suppressOutputScrolling: true,\n        minimumWidth: undefined,\n      });\n    ",
            "text/html": [
              "<div>\n",
              "<style scoped>\n",
              "    .dataframe tbody tr th:only-of-type {\n",
              "        vertical-align: middle;\n",
              "    }\n",
              "\n",
              "    .dataframe tbody tr th {\n",
              "        vertical-align: top;\n",
              "    }\n",
              "\n",
              "    .dataframe thead th {\n",
              "        text-align: right;\n",
              "    }\n",
              "</style>\n",
              "<table border=\"1\" class=\"dataframe\">\n",
              "  <thead>\n",
              "    <tr style=\"text-align: right;\">\n",
              "      <th></th>\n",
              "      <th>Date</th>\n",
              "      <th>Domain</th>\n",
              "      <th>response_GB</th>\n",
              "    </tr>\n",
              "  </thead>\n",
              "  <tbody>\n",
              "    <tr>\n",
              "      <th>0</th>\n",
              "      <td>2020-08-13</td>\n",
              "      <td>34.120.250.131</td>\n",
              "      <td>0.000301</td>\n",
              "    </tr>\n",
              "    <tr>\n",
              "      <th>1</th>\n",
              "      <td>2020-08-13</td>\n",
              "      <td>127.0.0.1</td>\n",
              "      <td>0.000001</td>\n",
              "    </tr>\n",
              "    <tr>\n",
              "      <th>2</th>\n",
              "      <td>2020-08-13</td>\n",
              "      <td>185.172.110.185</td>\n",
              "      <td>0.000001</td>\n",
              "    </tr>\n",
              "  </tbody>\n",
              "</table>\n",
              "</div>"
            ],
            "text/plain": [
              "         Date           Domain  response_GB\n",
              "0  2020-08-13   34.120.250.131     0.000301\n",
              "1  2020-08-13        127.0.0.1     0.000001\n",
              "2  2020-08-13  185.172.110.185     0.000001"
            ]
          },
          "metadata": {
            "tags": []
          },
          "execution_count": 2
        }
      ]
    },
    {
      "cell_type": "markdown",
      "metadata": {
        "id": "gYWifr4qYh4g",
        "colab_type": "text"
      },
      "source": [
        "# Hit PoP Information"
      ]
    },
    {
      "cell_type": "code",
      "metadata": {
        "id": "3OkbIoRmgICZ",
        "colab_type": "code",
        "colab": {
          "base_uri": "https://localhost:8080/",
          "height": 152
        },
        "outputId": "82f02e69-bfe3-478e-971a-1f3382b3d7a5"
      },
      "source": [
        "%%bigquery --project $project_id\n",
        "with tmp_table as (SELECT\n",
        "  EXTRACT (DATE\n",
        "  FROM\n",
        "    timestamp) AS Date, jsonpayload_type_loadbalancerlogentry.cacheid AS location_id, count(*) as location_count\n",
        "FROM\n",
        "  `ds_us.requests` as requests\n",
        "  WHERE\n",
        "\t(((requests.timestamp ) >= ((TIMESTAMP(FORMAT_TIMESTAMP('%F %H:%M:%E*S', TIMESTAMP_ADD(TIMESTAMP_TRUNC(TIMESTAMP(FORMAT_TIMESTAMP('%F %H:%M:%E*S', CURRENT_TIMESTAMP(), 'Asia/Shanghai')), DAY), INTERVAL -7 DAY)), 'Asia/Shanghai'))) AND (requests.timestamp ) < ((TIMESTAMP(FORMAT_TIMESTAMP('%F %H:%M:%E*S', TIMESTAMP_ADD(TIMESTAMP_ADD(TIMESTAMP_TRUNC(TIMESTAMP(FORMAT_TIMESTAMP('%F %H:%M:%E*S', CURRENT_TIMESTAMP(), 'Asia/Shanghai')), DAY), INTERVAL -7 DAY), INTERVAL 7 DAY)), 'Asia/Shanghai')))))\n",
        "GROUP BY\n",
        "  Date, location_id\n",
        "ORDER BY\n",
        "  Date ASC, location_count Desc\n",
        ")\n",
        "select Date, location_id, location_count\n",
        "from tmp_table\n",
        "where location_count > 10000"
      ],
      "execution_count": null,
      "outputs": [
        {
          "output_type": "execute_result",
          "data": {
            "application/vnd.google.colaboratory.module+javascript": "\n      import \"https://ssl.gstatic.com/colaboratory/data_table/a6224c040fa35dcf/data_table.js\";\n\n      window.createDataTable({\n        data: [[{\n            'v': 0,\n            'f': \"0\",\n        },\n\"2020-07-11\",\n\"SIN-b57fb7cd\",\n{\n            'v': 18729,\n            'f': \"18729\",\n        }],\n [{\n            'v': 1,\n            'f': \"1\",\n        },\n\"2020-07-11\",\n\"JNB-b7f7e32d\",\n{\n            'v': 15024,\n            'f': \"15024\",\n        }],\n [{\n            'v': 2,\n            'f': \"2\",\n        },\n\"2020-07-11\",\n\"SIN-63b91979\",\n{\n            'v': 11563,\n            'f': \"11563\",\n        }]],\n        columns: [[\"number\", \"index\"], [\"string\", \"Date\"], [\"string\", \"location_id\"], [\"number\", \"location_count\"]],\n        columnOptions: [{\"width\": \"1px\", \"className\": \"index_column\"}],\n        rowsPerPage: 25,\n        helpUrl: \"https://colab.research.google.com/notebooks/data_table.ipynb\",\n        suppressOutputScrolling: true,\n        minimumWidth: undefined,\n      });\n    ",
            "text/html": [
              "<div>\n",
              "<style scoped>\n",
              "    .dataframe tbody tr th:only-of-type {\n",
              "        vertical-align: middle;\n",
              "    }\n",
              "\n",
              "    .dataframe tbody tr th {\n",
              "        vertical-align: top;\n",
              "    }\n",
              "\n",
              "    .dataframe thead th {\n",
              "        text-align: right;\n",
              "    }\n",
              "</style>\n",
              "<table border=\"1\" class=\"dataframe\">\n",
              "  <thead>\n",
              "    <tr style=\"text-align: right;\">\n",
              "      <th></th>\n",
              "      <th>Date</th>\n",
              "      <th>location_id</th>\n",
              "      <th>location_count</th>\n",
              "    </tr>\n",
              "  </thead>\n",
              "  <tbody>\n",
              "    <tr>\n",
              "      <th>0</th>\n",
              "      <td>2020-07-11</td>\n",
              "      <td>SIN-b57fb7cd</td>\n",
              "      <td>18729</td>\n",
              "    </tr>\n",
              "    <tr>\n",
              "      <th>1</th>\n",
              "      <td>2020-07-11</td>\n",
              "      <td>JNB-b7f7e32d</td>\n",
              "      <td>15024</td>\n",
              "    </tr>\n",
              "    <tr>\n",
              "      <th>2</th>\n",
              "      <td>2020-07-11</td>\n",
              "      <td>SIN-63b91979</td>\n",
              "      <td>11563</td>\n",
              "    </tr>\n",
              "  </tbody>\n",
              "</table>\n",
              "</div>"
            ],
            "text/plain": [
              "         Date   location_id  location_count\n",
              "0  2020-07-11  SIN-b57fb7cd           18729\n",
              "1  2020-07-11  JNB-b7f7e32d           15024\n",
              "2  2020-07-11  SIN-63b91979           11563"
            ]
          },
          "metadata": {
            "tags": []
          },
          "execution_count": 5
        }
      ]
    },
    {
      "cell_type": "markdown",
      "metadata": {
        "id": "CUK9XFQmGxny",
        "colab_type": "text"
      },
      "source": [
        "# cache fill data usage by day"
      ]
    },
    {
      "cell_type": "code",
      "metadata": {
        "id": "yA4EpfO_HKPq",
        "colab_type": "code",
        "colab": {
          "base_uri": "https://localhost:8080/",
          "height": 194
        },
        "outputId": "7bcee9e9-1a24-41f9-ae2c-8d64c491e87a"
      },
      "source": [
        "%%bigquery --project $project_id\n",
        "SELECT\n",
        "  EXTRACT (DATE\n",
        "  FROM\n",
        "    timestamp AT TIME ZONE \"Asia/Shanghai\") AS Date,\n",
        "  SUM(httpRequest.cacheFillBytes)/1024/1024/1024 AS response_GB\n",
        "FROM\n",
        "  `ds_us.requests`\n",
        "WHERE httpRequest.cacheHit = true\n",
        "GROUP BY\n",
        "  Date\n",
        "ORDER BY\n",
        "  Date ASC"
      ],
      "execution_count": null,
      "outputs": [
        {
          "output_type": "execute_result",
          "data": {
            "application/vnd.google.colaboratory.module+javascript": "\n      import \"https://ssl.gstatic.com/colaboratory/data_table/a6224c040fa35dcf/data_table.js\";\n\n      window.createDataTable({\n        data: [[{\n            'v': 0,\n            'f': \"0\",\n        },\n\"2020-07-09\",\n{\n            'v': NaN,\n            'f': \"NaN\",\n        }],\n [{\n            'v': 1,\n            'f': \"1\",\n        },\n\"2020-07-11\",\n{\n            'v': 9.568861819803715,\n            'f': \"9.568861819803715\",\n        }],\n [{\n            'v': 2,\n            'f': \"2\",\n        },\n\"2020-07-12\",\n{\n            'v': 16.722373267635703,\n            'f': \"16.722373267635703\",\n        }],\n [{\n            'v': 3,\n            'f': \"3\",\n        },\n\"2020-07-13\",\n{\n            'v': 26.697865894064307,\n            'f': \"26.697865894064307\",\n        }],\n [{\n            'v': 4,\n            'f': \"4\",\n        },\n\"2020-07-14\",\n{\n            'v': 22.642113015055656,\n            'f': \"22.642113015055656\",\n        }]],\n        columns: [[\"number\", \"index\"], [\"string\", \"Date\"], [\"number\", \"response_GB\"]],\n        columnOptions: [{\"width\": \"1px\", \"className\": \"index_column\"}],\n        rowsPerPage: 25,\n        helpUrl: \"https://colab.research.google.com/notebooks/data_table.ipynb\",\n        suppressOutputScrolling: true,\n        minimumWidth: undefined,\n      });\n    ",
            "text/html": [
              "<div>\n",
              "<style scoped>\n",
              "    .dataframe tbody tr th:only-of-type {\n",
              "        vertical-align: middle;\n",
              "    }\n",
              "\n",
              "    .dataframe tbody tr th {\n",
              "        vertical-align: top;\n",
              "    }\n",
              "\n",
              "    .dataframe thead th {\n",
              "        text-align: right;\n",
              "    }\n",
              "</style>\n",
              "<table border=\"1\" class=\"dataframe\">\n",
              "  <thead>\n",
              "    <tr style=\"text-align: right;\">\n",
              "      <th></th>\n",
              "      <th>Date</th>\n",
              "      <th>response_GB</th>\n",
              "    </tr>\n",
              "  </thead>\n",
              "  <tbody>\n",
              "    <tr>\n",
              "      <th>0</th>\n",
              "      <td>2020-07-09</td>\n",
              "      <td>NaN</td>\n",
              "    </tr>\n",
              "    <tr>\n",
              "      <th>1</th>\n",
              "      <td>2020-07-11</td>\n",
              "      <td>9.568862</td>\n",
              "    </tr>\n",
              "    <tr>\n",
              "      <th>2</th>\n",
              "      <td>2020-07-12</td>\n",
              "      <td>16.722373</td>\n",
              "    </tr>\n",
              "    <tr>\n",
              "      <th>3</th>\n",
              "      <td>2020-07-13</td>\n",
              "      <td>26.697866</td>\n",
              "    </tr>\n",
              "    <tr>\n",
              "      <th>4</th>\n",
              "      <td>2020-07-14</td>\n",
              "      <td>22.642113</td>\n",
              "    </tr>\n",
              "  </tbody>\n",
              "</table>\n",
              "</div>"
            ],
            "text/plain": [
              "         Date  response_GB\n",
              "0  2020-07-09          NaN\n",
              "1  2020-07-11     9.568862\n",
              "2  2020-07-12    16.722373\n",
              "3  2020-07-13    26.697866\n",
              "4  2020-07-14    22.642113"
            ]
          },
          "metadata": {
            "tags": []
          },
          "execution_count": 13
        }
      ]
    },
    {
      "cell_type": "markdown",
      "metadata": {
        "id": "xSrWpV1-N1hM",
        "colab_type": "text"
      },
      "source": [
        "# cache hit egress data usage by day"
      ]
    },
    {
      "cell_type": "code",
      "metadata": {
        "id": "nntMGYJZN_WJ",
        "colab_type": "code",
        "colab": {
          "base_uri": "https://localhost:8080/",
          "height": 194
        },
        "outputId": "5c35e0a3-28c0-4e9d-b2ff-58a7f29a2d5e"
      },
      "source": [
        "%%bigquery --project $project_id\n",
        "SELECT\n",
        "  EXTRACT (DATE\n",
        "  FROM\n",
        "    timestamp AT TIME ZONE \"Asia/Shanghai\") AS Date,\n",
        "  SUM(httpRequest.responseSize)/1024/1024/1024 AS response_GB\n",
        "FROM\n",
        "  `ds_us.requests`\n",
        "WHERE httpRequest.cacheHit=true\n",
        "GROUP BY\n",
        "  Date\n",
        "ORDER BY\n",
        "  Date ASC"
      ],
      "execution_count": null,
      "outputs": [
        {
          "output_type": "execute_result",
          "data": {
            "application/vnd.google.colaboratory.module+javascript": "\n      import \"https://ssl.gstatic.com/colaboratory/data_table/a6224c040fa35dcf/data_table.js\";\n\n      window.createDataTable({\n        data: [[{\n            'v': 0,\n            'f': \"0\",\n        },\n\"2020-07-09\",\n{\n            'v': 4.5204535126686096e-05,\n            'f': \"4.5204535126686096e-05\",\n        }],\n [{\n            'v': 1,\n            'f': \"1\",\n        },\n\"2020-07-11\",\n{\n            'v': 21.223895203322172,\n            'f': \"21.223895203322172\",\n        }],\n [{\n            'v': 2,\n            'f': \"2\",\n        },\n\"2020-07-12\",\n{\n            'v': 54.09293475095183,\n            'f': \"54.09293475095183\",\n        }],\n [{\n            'v': 3,\n            'f': \"3\",\n        },\n\"2020-07-13\",\n{\n            'v': 58.702410174533725,\n            'f': \"58.702410174533725\",\n        }],\n [{\n            'v': 4,\n            'f': \"4\",\n        },\n\"2020-07-14\",\n{\n            'v': 58.50321113690734,\n            'f': \"58.50321113690734\",\n        }]],\n        columns: [[\"number\", \"index\"], [\"string\", \"Date\"], [\"number\", \"response_GB\"]],\n        columnOptions: [{\"width\": \"1px\", \"className\": \"index_column\"}],\n        rowsPerPage: 25,\n        helpUrl: \"https://colab.research.google.com/notebooks/data_table.ipynb\",\n        suppressOutputScrolling: true,\n        minimumWidth: undefined,\n      });\n    ",
            "text/html": [
              "<div>\n",
              "<style scoped>\n",
              "    .dataframe tbody tr th:only-of-type {\n",
              "        vertical-align: middle;\n",
              "    }\n",
              "\n",
              "    .dataframe tbody tr th {\n",
              "        vertical-align: top;\n",
              "    }\n",
              "\n",
              "    .dataframe thead th {\n",
              "        text-align: right;\n",
              "    }\n",
              "</style>\n",
              "<table border=\"1\" class=\"dataframe\">\n",
              "  <thead>\n",
              "    <tr style=\"text-align: right;\">\n",
              "      <th></th>\n",
              "      <th>Date</th>\n",
              "      <th>response_GB</th>\n",
              "    </tr>\n",
              "  </thead>\n",
              "  <tbody>\n",
              "    <tr>\n",
              "      <th>0</th>\n",
              "      <td>2020-07-09</td>\n",
              "      <td>0.000045</td>\n",
              "    </tr>\n",
              "    <tr>\n",
              "      <th>1</th>\n",
              "      <td>2020-07-11</td>\n",
              "      <td>21.223895</td>\n",
              "    </tr>\n",
              "    <tr>\n",
              "      <th>2</th>\n",
              "      <td>2020-07-12</td>\n",
              "      <td>54.092935</td>\n",
              "    </tr>\n",
              "    <tr>\n",
              "      <th>3</th>\n",
              "      <td>2020-07-13</td>\n",
              "      <td>58.702410</td>\n",
              "    </tr>\n",
              "    <tr>\n",
              "      <th>4</th>\n",
              "      <td>2020-07-14</td>\n",
              "      <td>58.503211</td>\n",
              "    </tr>\n",
              "  </tbody>\n",
              "</table>\n",
              "</div>"
            ],
            "text/plain": [
              "         Date  response_GB\n",
              "0  2020-07-09     0.000045\n",
              "1  2020-07-11    21.223895\n",
              "2  2020-07-12    54.092935\n",
              "3  2020-07-13    58.702410\n",
              "4  2020-07-14    58.503211"
            ]
          },
          "metadata": {
            "tags": []
          },
          "execution_count": 12
        }
      ]
    },
    {
      "cell_type": "markdown",
      "metadata": {
        "id": "GBMwCE1QOWgW",
        "colab_type": "text"
      },
      "source": [
        "# Distinct URL numbers"
      ]
    },
    {
      "cell_type": "code",
      "metadata": {
        "id": "8tRV813HOVYx",
        "colab_type": "code",
        "colab": {}
      },
      "source": [
        "%%bigquery --project $project_id\n",
        "SELECT\n",
        "  count(DISTINCT(httpRequest.requestUrl))\n",
        "FROM\n",
        "  `ds_us.requests`"
      ],
      "execution_count": null,
      "outputs": []
    },
    {
      "cell_type": "markdown",
      "metadata": {
        "id": "1I838nM1OxLx",
        "colab_type": "text"
      },
      "source": [
        "# Distinct URL numbers by day"
      ]
    },
    {
      "cell_type": "code",
      "metadata": {
        "id": "kRnIm7e8O2rS",
        "colab_type": "code",
        "colab": {}
      },
      "source": [
        "%%bigquery --project $project_id\n",
        "SELECT\n",
        "  EXTRACT (DATE\n",
        "  FROM\n",
        "    timestamp) AS Date,\n",
        "  COUNT(DISTINCT(httpRequest.requestUrl)) AS Distinct_URLs\n",
        "FROM\n",
        "  `ds_us.requests`\n",
        "GROUP BY\n",
        "  Date\n",
        "ORDER BY\n",
        "  Date ASC"
      ],
      "execution_count": null,
      "outputs": []
    },
    {
      "cell_type": "markdown",
      "metadata": {
        "id": "LvdAMo8YO7bN",
        "colab_type": "text"
      },
      "source": [
        "# egress data usage by day"
      ]
    },
    {
      "cell_type": "code",
      "metadata": {
        "id": "6yrc5_v4PDFd",
        "colab_type": "code",
        "colab": {
          "base_uri": "https://localhost:8080/",
          "height": 488
        },
        "outputId": "39e08d93-b36d-40ef-c1d9-5e859feb7be9"
      },
      "source": [
        "%%bigquery --project $project_id\n",
        "SELECT\n",
        "  EXTRACT (DATE\n",
        "  FROM\n",
        "    timestamp AT TIME ZONE \"Asia/Shanghai\") AS Date,\n",
        "  SUM(httpRequest.responseSize)/1024/1024/1024 AS response_GB\n",
        "FROM\n",
        "  `ds_us.requests`\n",
        "#WHERE httpRequest.userAgent like '%GFE%'\n",
        "GROUP BY\n",
        "  Date\n",
        "ORDER BY\n",
        "  Date ASC"
      ],
      "execution_count": null,
      "outputs": [
        {
          "output_type": "execute_result",
          "data": {
            "application/vnd.google.colaboratory.module+javascript": "\n      import \"https://ssl.gstatic.com/colaboratory/data_table/a6224c040fa35dcf/data_table.js\";\n\n      window.createDataTable({\n        data: [[{\n            'v': 0,\n            'f': \"0\",\n        },\n\"2020-07-09\",\n{\n            'v': 0.0020252829417586327,\n            'f': \"0.0020252829417586327\",\n        }],\n [{\n            'v': 1,\n            'f': \"1\",\n        },\n\"2020-07-10\",\n{\n            'v': 0.00011423416435718536,\n            'f': \"0.00011423416435718536\",\n        }],\n [{\n            'v': 2,\n            'f': \"2\",\n        },\n\"2020-07-11\",\n{\n            'v': 36.163360234349966,\n            'f': \"36.163360234349966\",\n        }],\n [{\n            'v': 3,\n            'f': \"3\",\n        },\n\"2020-07-12\",\n{\n            'v': 79.1114585865289,\n            'f': \"79.1114585865289\",\n        }],\n [{\n            'v': 4,\n            'f': \"4\",\n        },\n\"2020-07-13\",\n{\n            'v': 93.80922813434154,\n            'f': \"93.80922813434154\",\n        }],\n [{\n            'v': 5,\n            'f': \"5\",\n        },\n\"2020-07-14\",\n{\n            'v': 240.00900212861598,\n            'f': \"240.00900212861598\",\n        }],\n [{\n            'v': 6,\n            'f': \"6\",\n        },\n\"2020-07-15\",\n{\n            'v': 231.91181370429695,\n            'f': \"231.91181370429695\",\n        }],\n [{\n            'v': 7,\n            'f': \"7\",\n        },\n\"2020-07-16\",\n{\n            'v': 189.56874681450427,\n            'f': \"189.56874681450427\",\n        }],\n [{\n            'v': 8,\n            'f': \"8\",\n        },\n\"2020-07-17\",\n{\n            'v': 454.60699440166354,\n            'f': \"454.60699440166354\",\n        }],\n [{\n            'v': 9,\n            'f': \"9\",\n        },\n\"2020-07-18\",\n{\n            'v': 1290.3578264238313,\n            'f': \"1290.3578264238313\",\n        }],\n [{\n            'v': 10,\n            'f': \"10\",\n        },\n\"2020-07-19\",\n{\n            'v': 1339.30694798287,\n            'f': \"1339.30694798287\",\n        }],\n [{\n            'v': 11,\n            'f': \"11\",\n        },\n\"2020-07-20\",\n{\n            'v': 1818.4025349942967,\n            'f': \"1818.4025349942967\",\n        }],\n [{\n            'v': 12,\n            'f': \"12\",\n        },\n\"2020-07-21\",\n{\n            'v': 6165.84497036133,\n            'f': \"6165.84497036133\",\n        }],\n [{\n            'v': 13,\n            'f': \"13\",\n        },\n\"2020-07-22\",\n{\n            'v': 6490.35025858134,\n            'f': \"6490.35025858134\",\n        }],\n [{\n            'v': 14,\n            'f': \"14\",\n        },\n\"2020-07-23\",\n{\n            'v': 5856.417965470813,\n            'f': \"5856.417965470813\",\n        }],\n [{\n            'v': 15,\n            'f': \"15\",\n        },\n\"2020-07-24\",\n{\n            'v': 3906.675198850222,\n            'f': \"3906.675198850222\",\n        }],\n [{\n            'v': 16,\n            'f': \"16\",\n        },\n\"2020-07-25\",\n{\n            'v': 132.40576599072665,\n            'f': \"132.40576599072665\",\n        }],\n [{\n            'v': 17,\n            'f': \"17\",\n        },\n\"2020-07-26\",\n{\n            'v': 68.41270660143346,\n            'f': \"68.41270660143346\",\n        }],\n [{\n            'v': 18,\n            'f': \"18\",\n        },\n\"2020-07-27\",\n{\n            'v': 15.814566440880299,\n            'f': \"15.814566440880299\",\n        }]],\n        columns: [[\"number\", \"index\"], [\"string\", \"Date\"], [\"number\", \"response_GB\"]],\n        columnOptions: [{\"width\": \"1px\", \"className\": \"index_column\"}],\n        rowsPerPage: 25,\n        helpUrl: \"https://colab.research.google.com/notebooks/data_table.ipynb\",\n        suppressOutputScrolling: true,\n        minimumWidth: undefined,\n      });\n    ",
            "text/html": [
              "<div>\n",
              "<style scoped>\n",
              "    .dataframe tbody tr th:only-of-type {\n",
              "        vertical-align: middle;\n",
              "    }\n",
              "\n",
              "    .dataframe tbody tr th {\n",
              "        vertical-align: top;\n",
              "    }\n",
              "\n",
              "    .dataframe thead th {\n",
              "        text-align: right;\n",
              "    }\n",
              "</style>\n",
              "<table border=\"1\" class=\"dataframe\">\n",
              "  <thead>\n",
              "    <tr style=\"text-align: right;\">\n",
              "      <th></th>\n",
              "      <th>Date</th>\n",
              "      <th>response_GB</th>\n",
              "    </tr>\n",
              "  </thead>\n",
              "  <tbody>\n",
              "    <tr>\n",
              "      <th>0</th>\n",
              "      <td>2020-07-09</td>\n",
              "      <td>0.002025</td>\n",
              "    </tr>\n",
              "    <tr>\n",
              "      <th>1</th>\n",
              "      <td>2020-07-10</td>\n",
              "      <td>0.000114</td>\n",
              "    </tr>\n",
              "    <tr>\n",
              "      <th>2</th>\n",
              "      <td>2020-07-11</td>\n",
              "      <td>36.163360</td>\n",
              "    </tr>\n",
              "    <tr>\n",
              "      <th>3</th>\n",
              "      <td>2020-07-12</td>\n",
              "      <td>79.111459</td>\n",
              "    </tr>\n",
              "    <tr>\n",
              "      <th>4</th>\n",
              "      <td>2020-07-13</td>\n",
              "      <td>93.809228</td>\n",
              "    </tr>\n",
              "    <tr>\n",
              "      <th>5</th>\n",
              "      <td>2020-07-14</td>\n",
              "      <td>240.009002</td>\n",
              "    </tr>\n",
              "    <tr>\n",
              "      <th>6</th>\n",
              "      <td>2020-07-15</td>\n",
              "      <td>231.911814</td>\n",
              "    </tr>\n",
              "    <tr>\n",
              "      <th>7</th>\n",
              "      <td>2020-07-16</td>\n",
              "      <td>189.568747</td>\n",
              "    </tr>\n",
              "    <tr>\n",
              "      <th>8</th>\n",
              "      <td>2020-07-17</td>\n",
              "      <td>454.606994</td>\n",
              "    </tr>\n",
              "    <tr>\n",
              "      <th>9</th>\n",
              "      <td>2020-07-18</td>\n",
              "      <td>1290.357826</td>\n",
              "    </tr>\n",
              "    <tr>\n",
              "      <th>10</th>\n",
              "      <td>2020-07-19</td>\n",
              "      <td>1339.306948</td>\n",
              "    </tr>\n",
              "    <tr>\n",
              "      <th>11</th>\n",
              "      <td>2020-07-20</td>\n",
              "      <td>1818.402535</td>\n",
              "    </tr>\n",
              "    <tr>\n",
              "      <th>12</th>\n",
              "      <td>2020-07-21</td>\n",
              "      <td>6165.844970</td>\n",
              "    </tr>\n",
              "    <tr>\n",
              "      <th>13</th>\n",
              "      <td>2020-07-22</td>\n",
              "      <td>6490.350259</td>\n",
              "    </tr>\n",
              "    <tr>\n",
              "      <th>14</th>\n",
              "      <td>2020-07-23</td>\n",
              "      <td>5856.417965</td>\n",
              "    </tr>\n",
              "    <tr>\n",
              "      <th>15</th>\n",
              "      <td>2020-07-24</td>\n",
              "      <td>3906.675199</td>\n",
              "    </tr>\n",
              "    <tr>\n",
              "      <th>16</th>\n",
              "      <td>2020-07-25</td>\n",
              "      <td>132.405766</td>\n",
              "    </tr>\n",
              "    <tr>\n",
              "      <th>17</th>\n",
              "      <td>2020-07-26</td>\n",
              "      <td>68.412707</td>\n",
              "    </tr>\n",
              "    <tr>\n",
              "      <th>18</th>\n",
              "      <td>2020-07-27</td>\n",
              "      <td>15.814566</td>\n",
              "    </tr>\n",
              "  </tbody>\n",
              "</table>\n",
              "</div>"
            ],
            "text/plain": [
              "          Date  response_GB\n",
              "0   2020-07-09     0.002025\n",
              "1   2020-07-10     0.000114\n",
              "2   2020-07-11    36.163360\n",
              "3   2020-07-12    79.111459\n",
              "4   2020-07-13    93.809228\n",
              "5   2020-07-14   240.009002\n",
              "6   2020-07-15   231.911814\n",
              "7   2020-07-16   189.568747\n",
              "8   2020-07-17   454.606994\n",
              "9   2020-07-18  1290.357826\n",
              "10  2020-07-19  1339.306948\n",
              "11  2020-07-20  1818.402535\n",
              "12  2020-07-21  6165.844970\n",
              "13  2020-07-22  6490.350259\n",
              "14  2020-07-23  5856.417965\n",
              "15  2020-07-24  3906.675199\n",
              "16  2020-07-25   132.405766\n",
              "17  2020-07-26    68.412707\n",
              "18  2020-07-27    15.814566"
            ]
          },
          "metadata": {
            "tags": []
          },
          "execution_count": 3
        }
      ]
    },
    {
      "cell_type": "markdown",
      "metadata": {
        "colab_type": "text",
        "id": "_WyT7u51c8UQ"
      },
      "source": [
        "# egress data without cross GFE fill usage by day"
      ]
    },
    {
      "cell_type": "code",
      "metadata": {
        "colab_type": "code",
        "id": "y8qS1c80c8UQ",
        "colab": {
          "base_uri": "https://localhost:8080/",
          "height": 215
        },
        "outputId": "80577876-f070-459d-b57e-7759caefe91a"
      },
      "source": [
        "%%bigquery --project $project_id\n",
        "SELECT\n",
        "  EXTRACT (DATE\n",
        "  FROM\n",
        "    timestamp AT TIME ZONE \"Asia/Shanghai\") AS Date,\n",
        "  SUM(httpRequest.responseSize)/1024/1024/1024 AS response_GB\n",
        "FROM\n",
        "  `ds_us.requests`\n",
        "WHERE (httpRequest.userAgent not like '%Cloud-CDN-Google%') or (httpRequest.userAgent is NULL)\n",
        "GROUP BY\n",
        "  Date\n",
        "ORDER BY\n",
        "  Date ASC"
      ],
      "execution_count": null,
      "outputs": [
        {
          "output_type": "execute_result",
          "data": {
            "application/vnd.google.colaboratory.module+javascript": "\n      import \"https://ssl.gstatic.com/colaboratory/data_table/a6224c040fa35dcf/data_table.js\";\n\n      window.createDataTable({\n        data: [[{\n            'v': 0,\n            'f': \"0\",\n        },\n\"2020-07-09\",\n{\n            'v': 0.0020252829417586327,\n            'f': \"0.0020252829417586327\",\n        }],\n [{\n            'v': 1,\n            'f': \"1\",\n        },\n\"2020-07-10\",\n{\n            'v': 0.00011423416435718536,\n            'f': \"0.00011423416435718536\",\n        }],\n [{\n            'v': 2,\n            'f': \"2\",\n        },\n\"2020-07-11\",\n{\n            'v': 26.610390425659716,\n            'f': \"26.610390425659716\",\n        }],\n [{\n            'v': 3,\n            'f': \"3\",\n        },\n\"2020-07-12\",\n{\n            'v': 62.2430203249678,\n            'f': \"62.2430203249678\",\n        }],\n [{\n            'v': 4,\n            'f': \"4\",\n        },\n\"2020-07-13\",\n{\n            'v': 66.4998454991728,\n            'f': \"66.4998454991728\",\n        }],\n [{\n            'v': 5,\n            'f': \"5\",\n        },\n\"2020-07-14\",\n{\n            'v': 64.21538678277284,\n            'f': \"64.21538678277284\",\n        }]],\n        columns: [[\"number\", \"index\"], [\"string\", \"Date\"], [\"number\", \"response_GB\"]],\n        columnOptions: [{\"width\": \"1px\", \"className\": \"index_column\"}],\n        rowsPerPage: 25,\n        helpUrl: \"https://colab.research.google.com/notebooks/data_table.ipynb\",\n        suppressOutputScrolling: true,\n        minimumWidth: undefined,\n      });\n    ",
            "text/html": [
              "<div>\n",
              "<style scoped>\n",
              "    .dataframe tbody tr th:only-of-type {\n",
              "        vertical-align: middle;\n",
              "    }\n",
              "\n",
              "    .dataframe tbody tr th {\n",
              "        vertical-align: top;\n",
              "    }\n",
              "\n",
              "    .dataframe thead th {\n",
              "        text-align: right;\n",
              "    }\n",
              "</style>\n",
              "<table border=\"1\" class=\"dataframe\">\n",
              "  <thead>\n",
              "    <tr style=\"text-align: right;\">\n",
              "      <th></th>\n",
              "      <th>Date</th>\n",
              "      <th>response_GB</th>\n",
              "    </tr>\n",
              "  </thead>\n",
              "  <tbody>\n",
              "    <tr>\n",
              "      <th>0</th>\n",
              "      <td>2020-07-09</td>\n",
              "      <td>0.002025</td>\n",
              "    </tr>\n",
              "    <tr>\n",
              "      <th>1</th>\n",
              "      <td>2020-07-10</td>\n",
              "      <td>0.000114</td>\n",
              "    </tr>\n",
              "    <tr>\n",
              "      <th>2</th>\n",
              "      <td>2020-07-11</td>\n",
              "      <td>26.610390</td>\n",
              "    </tr>\n",
              "    <tr>\n",
              "      <th>3</th>\n",
              "      <td>2020-07-12</td>\n",
              "      <td>62.243020</td>\n",
              "    </tr>\n",
              "    <tr>\n",
              "      <th>4</th>\n",
              "      <td>2020-07-13</td>\n",
              "      <td>66.499845</td>\n",
              "    </tr>\n",
              "    <tr>\n",
              "      <th>5</th>\n",
              "      <td>2020-07-14</td>\n",
              "      <td>64.215387</td>\n",
              "    </tr>\n",
              "  </tbody>\n",
              "</table>\n",
              "</div>"
            ],
            "text/plain": [
              "         Date  response_GB\n",
              "0  2020-07-09     0.002025\n",
              "1  2020-07-10     0.000114\n",
              "2  2020-07-11    26.610390\n",
              "3  2020-07-12    62.243020\n",
              "4  2020-07-13    66.499845\n",
              "5  2020-07-14    64.215387"
            ]
          },
          "metadata": {
            "tags": []
          },
          "execution_count": 11
        }
      ]
    },
    {
      "cell_type": "markdown",
      "metadata": {
        "colab_type": "text",
        "id": "dlk0Xq2je5m7"
      },
      "source": [
        "# egress data for cross GFE fill usage by day"
      ]
    },
    {
      "cell_type": "code",
      "metadata": {
        "colab_type": "code",
        "id": "pgV3HHVIe5m8",
        "colab": {
          "base_uri": "https://localhost:8080/",
          "height": 173
        },
        "outputId": "59d2c19e-5e48-49f7-a0e6-6f4eadfb9319"
      },
      "source": [
        "%%bigquery --project $project_id\n",
        "SELECT\n",
        "  EXTRACT (DATE\n",
        "  FROM\n",
        "    timestamp AT TIME ZONE \"Asia/Shanghai\") AS Date,\n",
        "  SUM(httpRequest.responseSize)/1024/1024/1024 AS response_GB\n",
        "FROM\n",
        "  `ds_us.requests`\n",
        "WHERE httpRequest.userAgent like '%Cloud-CDN-Google%'\n",
        "GROUP BY\n",
        "  Date\n",
        "ORDER BY\n",
        "  Date ASC"
      ],
      "execution_count": null,
      "outputs": [
        {
          "output_type": "execute_result",
          "data": {
            "application/vnd.google.colaboratory.module+javascript": "\n      import \"https://ssl.gstatic.com/colaboratory/data_table/a6224c040fa35dcf/data_table.js\";\n\n      window.createDataTable({\n        data: [[{\n            'v': 0,\n            'f': \"0\",\n        },\n\"2020-07-11\",\n{\n            'v': 9.55296980869025,\n            'f': \"9.55296980869025\",\n        }],\n [{\n            'v': 1,\n            'f': \"1\",\n        },\n\"2020-07-12\",\n{\n            'v': 16.868438261561096,\n            'f': \"16.868438261561096\",\n        }],\n [{\n            'v': 2,\n            'f': \"2\",\n        },\n\"2020-07-13\",\n{\n            'v': 27.30938263516873,\n            'f': \"27.30938263516873\",\n        }],\n [{\n            'v': 3,\n            'f': \"3\",\n        },\n\"2020-07-14\",\n{\n            'v': 23.83629891742021,\n            'f': \"23.83629891742021\",\n        }]],\n        columns: [[\"number\", \"index\"], [\"string\", \"Date\"], [\"number\", \"response_GB\"]],\n        columnOptions: [{\"width\": \"1px\", \"className\": \"index_column\"}],\n        rowsPerPage: 25,\n        helpUrl: \"https://colab.research.google.com/notebooks/data_table.ipynb\",\n        suppressOutputScrolling: true,\n        minimumWidth: undefined,\n      });\n    ",
            "text/html": [
              "<div>\n",
              "<style scoped>\n",
              "    .dataframe tbody tr th:only-of-type {\n",
              "        vertical-align: middle;\n",
              "    }\n",
              "\n",
              "    .dataframe tbody tr th {\n",
              "        vertical-align: top;\n",
              "    }\n",
              "\n",
              "    .dataframe thead th {\n",
              "        text-align: right;\n",
              "    }\n",
              "</style>\n",
              "<table border=\"1\" class=\"dataframe\">\n",
              "  <thead>\n",
              "    <tr style=\"text-align: right;\">\n",
              "      <th></th>\n",
              "      <th>Date</th>\n",
              "      <th>response_GB</th>\n",
              "    </tr>\n",
              "  </thead>\n",
              "  <tbody>\n",
              "    <tr>\n",
              "      <th>0</th>\n",
              "      <td>2020-07-11</td>\n",
              "      <td>9.552970</td>\n",
              "    </tr>\n",
              "    <tr>\n",
              "      <th>1</th>\n",
              "      <td>2020-07-12</td>\n",
              "      <td>16.868438</td>\n",
              "    </tr>\n",
              "    <tr>\n",
              "      <th>2</th>\n",
              "      <td>2020-07-13</td>\n",
              "      <td>27.309383</td>\n",
              "    </tr>\n",
              "    <tr>\n",
              "      <th>3</th>\n",
              "      <td>2020-07-14</td>\n",
              "      <td>23.836299</td>\n",
              "    </tr>\n",
              "  </tbody>\n",
              "</table>\n",
              "</div>"
            ],
            "text/plain": [
              "         Date  response_GB\n",
              "0  2020-07-11     9.552970\n",
              "1  2020-07-12    16.868438\n",
              "2  2020-07-13    27.309383\n",
              "3  2020-07-14    23.836299"
            ]
          },
          "metadata": {
            "tags": []
          },
          "execution_count": 14
        }
      ]
    },
    {
      "cell_type": "markdown",
      "metadata": {
        "id": "UMKtB9RUPJJC",
        "colab_type": "text"
      },
      "source": [
        "# error rate by day"
      ]
    },
    {
      "cell_type": "code",
      "metadata": {
        "id": "ETXRlkckPPCy",
        "colab_type": "code",
        "colab": {}
      },
      "source": [
        "%%bigquery --project $project_id\n",
        "SELECT\n",
        "  EXTRACT (DATE\n",
        "  FROM\n",
        "    timestamp) AS Date,\n",
        "  COUNT(\n",
        "  IF\n",
        "    (httpRequest.status > 400,\n",
        "      TRUE,\n",
        "      NULL)) AS num_err,\n",
        "  COUNT(*) AS sum,\n",
        "  COUNT(\n",
        "  IF\n",
        "    (httpRequest.status >= 400,\n",
        "      TRUE,\n",
        "      NULL))/COUNT(*) AS percentage\n",
        "FROM\n",
        "  `ds_us.requests`\n",
        "GROUP BY\n",
        "  Date\n",
        "ORDER BY\n",
        "  Date"
      ],
      "execution_count": null,
      "outputs": []
    },
    {
      "cell_type": "markdown",
      "metadata": {
        "id": "dIldHOJxPcyF",
        "colab_type": "text"
      },
      "source": [
        "# hitRate by day"
      ]
    },
    {
      "cell_type": "code",
      "metadata": {
        "id": "tgWvaepFPkKN",
        "colab_type": "code",
        "colab": {}
      },
      "source": [
        "%%bigquery --project $project_id\n",
        "SELECT\n",
        "  EXTRACT (DATE\n",
        "  FROM\n",
        "    timestamp) AS Date,\n",
        "  count(if(httpRequest.cacheHit=true,true,null))/count(*) as hitRate\n",
        "FROM\n",
        "  `ds_us.requests`\n",
        "WHERE httpRequest.requestUrl like '%cdn-2020-t2.wshareit.com%'\n",
        "GROUP BY\n",
        "  Date\n",
        "ORDER BY\n",
        "  Date ASC"
      ],
      "execution_count": null,
      "outputs": []
    },
    {
      "cell_type": "markdown",
      "metadata": {
        "id": "jrJIONkpPyAt",
        "colab_type": "text"
      },
      "source": [
        "# response bytes by userAgent"
      ]
    },
    {
      "cell_type": "code",
      "metadata": {
        "id": "3gSDiChVPrj9",
        "colab_type": "code",
        "colab": {}
      },
      "source": [
        "%%bigquery --project $project_id\n",
        "SELECT\n",
        "  httpRequest.userAgent AS userAgent,\n",
        "  SUM(httpRequest.responseSize)/1024/1024/1024 AS response_GB\n",
        "FROM\n",
        "  `ds_us.requests`\n",
        "WHERE\n",
        "  httpRequest.requestUrl like '%cdn-2020-t2.wshareit.com%'\n",
        "GROUP BY\n",
        "  httpRequest.userAgent\n",
        "ORDER BY\n",
        "  response_GB DESC\n",
        "limit 100"
      ],
      "execution_count": null,
      "outputs": []
    },
    {
      "cell_type": "markdown",
      "metadata": {
        "id": "UutdkYzQP2n2",
        "colab_type": "text"
      },
      "source": [
        "# top response bytes by urls"
      ]
    },
    {
      "cell_type": "code",
      "metadata": {
        "id": "IsSnlVJfPrW6",
        "colab_type": "code",
        "colab": {}
      },
      "source": [
        "%%bigquery --project $project_id\n",
        "SELECT\n",
        "  httpRequest.requestUrl AS URL,\n",
        "  SUM(httpRequest.responseSize)/1024/1024/1024 AS response_GB\n",
        "FROM\n",
        "  `ds_us.requests`\n",
        "#WHERE\n",
        "#  httpRequest.requestUrl like '%cdn-2020-t2.wshareit.com%'\n",
        "GROUP BY\n",
        "  URL\n",
        "ORDER BY\n",
        "  response_GB DESC\n",
        "limit 50"
      ],
      "execution_count": null,
      "outputs": []
    },
    {
      "cell_type": "markdown",
      "metadata": {
        "id": "59ujkE66QBRg",
        "colab_type": "text"
      },
      "source": [
        "# top response counts by urls"
      ]
    },
    {
      "cell_type": "code",
      "metadata": {
        "id": "wyuXwctJPrPk",
        "colab_type": "code",
        "colab": {}
      },
      "source": [
        "%%bigquery --project $project_id\n",
        "SELECT\n",
        "  httpRequest.requestUrl as RequestURL, count(*) AS sums,\n",
        "FROM\n",
        "  `ds_us.requests`\n",
        "#WHERE\n",
        "#  httpRequest.requestUrl like '%cdn-2020-t2.wshareit.com%'\n",
        "GROUP BY\n",
        "  httpRequest.requestUrl\n",
        "ORDER BY\n",
        "  sums DESC\n",
        "limit 50"
      ],
      "execution_count": null,
      "outputs": []
    },
    {
      "cell_type": "markdown",
      "metadata": {
        "id": "H7JrIuhqQJd2",
        "colab_type": "text"
      },
      "source": [
        "# top url by day"
      ]
    },
    {
      "cell_type": "code",
      "metadata": {
        "id": "1brt1tQRPrHp",
        "colab_type": "code",
        "colab": {}
      },
      "source": [
        "%%bigquery --project $project_id\n",
        "SELECT\n",
        "  httpRequest.requestUrl AS URL,\n",
        "  SUM(httpRequest.responseSize)/1024/1024/1024 AS response_GB\n",
        "FROM\n",
        "  `ds_us.requests`\n",
        "#WHERE\n",
        "#  httpRequest.requestUrl like '%cdn-2020-t2.wshareit.com%'\n",
        "GROUP BY\n",
        "  URL\n",
        "ORDER BY\n",
        "  response_GB DESC\n",
        "limit 50"
      ],
      "execution_count": null,
      "outputs": []
    },
    {
      "cell_type": "markdown",
      "metadata": {
        "id": "AOSuSAJZQR1r",
        "colab_type": "text"
      },
      "source": [
        "# URL count with less than 5 requests percentage"
      ]
    },
    {
      "cell_type": "code",
      "metadata": {
        "id": "kjHc3THZPq6e",
        "colab_type": "code",
        "colab": {}
      },
      "source": [
        "%%bigquery --project $project_id\n",
        "WITH URL_COUNT as (\n",
        "SELECT\n",
        "  httpRequest.requestUrl AS URL,\n",
        "  MAX( httpRequest.responseSize ) AS ResponseSize,\n",
        "  COUNT(httpRequest.requestUrl) AS Count\n",
        "FROM\n",
        "  `ds_us.requests`\n",
        "WHERE\n",
        "  httpRequest.requestUrl like '%cdn-2020-t2.wshareit.com%'\n",
        "GROUP BY\n",
        "  URL\n",
        ")\n",
        "\n",
        "select \n",
        "(select count(*) from URL_COUNT where Count <= 5) as count_lt_5, \n",
        "(select count(*) from URL_COUNT) as count_total,\n",
        "(select count(*) from URL_COUNT where Count <= 5)/(select count(*) from URL_COUNT) as percentage"
      ],
      "execution_count": null,
      "outputs": []
    },
    {
      "cell_type": "markdown",
      "metadata": {
        "id": "FECedGodQS_2",
        "colab_type": "text"
      },
      "source": [
        "# URL count with less than 50 requests count percentage"
      ]
    },
    {
      "cell_type": "code",
      "metadata": {
        "id": "pjvD8O3jQTmS",
        "colab_type": "code",
        "colab": {
          "base_uri": "https://localhost:8080/",
          "height": 80
        },
        "outputId": "a60bfb3c-6d87-4a7c-c259-291dd71d16f3"
      },
      "source": [
        "%%bigquery --project $project_id\n",
        "WITH URL_COUNT as (\n",
        "SELECT\n",
        "  httpRequest.requestUrl AS URL,\n",
        "  MAX( httpRequest.responseSize ) AS ResponseSize,\n",
        "  COUNT(httpRequest.requestUrl) AS Count\n",
        "FROM\n",
        "  `ds_us.requests`\n",
        "WHERE\n",
        "  httpRequest.requestUrl like '%cdn-2020-t2.wshareit.com%'\n",
        "GROUP BY\n",
        "  URL\n",
        ")\n",
        "\n",
        "select\n",
        "(select sum(Count) from URL_COUNT where Count <= 50) as sum_lt_50, \n",
        "(select sum(Count) from URL_COUNT) as sum_total,\n",
        "(select sum(Count) from URL_COUNT where Count <= 50)/(select sum(Count) from URL_COUNT) as percentage"
      ],
      "execution_count": null,
      "outputs": [
        {
          "output_type": "execute_result",
          "data": {
            "text/html": [
              "<div>\n",
              "<style scoped>\n",
              "    .dataframe tbody tr th:only-of-type {\n",
              "        vertical-align: middle;\n",
              "    }\n",
              "\n",
              "    .dataframe tbody tr th {\n",
              "        vertical-align: top;\n",
              "    }\n",
              "\n",
              "    .dataframe thead th {\n",
              "        text-align: right;\n",
              "    }\n",
              "</style>\n",
              "<table border=\"1\" class=\"dataframe\">\n",
              "  <thead>\n",
              "    <tr style=\"text-align: right;\">\n",
              "      <th></th>\n",
              "      <th>sum_lt_50</th>\n",
              "      <th>sum_total</th>\n",
              "      <th>percentage</th>\n",
              "    </tr>\n",
              "  </thead>\n",
              "  <tbody>\n",
              "    <tr>\n",
              "      <th>0</th>\n",
              "      <td>87787176</td>\n",
              "      <td>1441000066</td>\n",
              "      <td>0.060921</td>\n",
              "    </tr>\n",
              "  </tbody>\n",
              "</table>\n",
              "</div>"
            ],
            "text/plain": [
              "   sum_lt_50   sum_total  percentage\n",
              "0   87787176  1441000066    0.060921"
            ]
          },
          "metadata": {
            "tags": []
          },
          "execution_count": 18
        }
      ]
    },
    {
      "cell_type": "markdown",
      "metadata": {
        "colab_type": "text",
        "id": "FRRqWtpNRioh"
      },
      "source": [
        "# egress data usage by day, Bigquery SDK\n",
        "## Last day and domain"
      ]
    },
    {
      "cell_type": "code",
      "metadata": {
        "colab_type": "code",
        "id": "HTbyRUyQRioo",
        "colab": {
          "base_uri": "https://localhost:8080/",
          "height": 127
        },
        "outputId": "abab09cb-8546-48da-8ca7-ec82ec44c343"
      },
      "source": [
        "from google.cloud import bigquery\n",
        "client = bigquery.Client(project=project_id)\n",
        "\n",
        "df = client.query('''\n",
        "SELECT\n",
        "  EXTRACT (DATE\n",
        "  FROM\n",
        "    timestamp AT TIME ZONE \"Asia/Shanghai\") AS Date,\n",
        "  \"cdn-2020-t2.wshareit.com\" as Domain,\n",
        "  SUM(httpRequest.responseSize)/1024/1024/1024 AS response_GB\n",
        "FROM\n",
        "  `ds_us.requests`\n",
        "WHERE ((httpRequest.userAgent not like '%Cloud-CDN-Google%') or (httpRequest.userAgent is NULL))\n",
        "and EXTRACT(DATE FROM timestamp AT TIME ZONE \"Asia/Shanghai\") = DATE_ADD(CURRENT_DATE('Asia/Shanghai'), INTERVAL -1 DAY)\n",
        "and httpRequest.requestUrl like \"%cdn-2020-t2.wshareit.com%\"\n",
        "GROUP BY\n",
        "  Date\n",
        "ORDER BY\n",
        "  Date ASC\n",
        "''' ).to_dataframe()\n",
        "df.head(20)"
      ],
      "execution_count": null,
      "outputs": [
        {
          "output_type": "stream",
          "text": [
            "WARNING:google.auth._default:No project ID could be determined. Consider running `gcloud config set project` or setting the GOOGLE_CLOUD_PROJECT environment variable\n"
          ],
          "name": "stderr"
        },
        {
          "output_type": "execute_result",
          "data": {
            "application/vnd.google.colaboratory.module+javascript": "\n      import \"https://ssl.gstatic.com/colaboratory/data_table/a6224c040fa35dcf/data_table.js\";\n\n      window.createDataTable({\n        data: [[{\n            'v': 0,\n            'f': \"0\",\n        },\n\"2020-07-23\",\n\"cdn-2020-t2.wshareit.com\",\n{\n            'v': 4082.560819395818,\n            'f': \"4082.560819395818\",\n        }]],\n        columns: [[\"number\", \"index\"], [\"string\", \"Date\"], [\"string\", \"Domain\"], [\"number\", \"response_GB\"]],\n        columnOptions: [{\"width\": \"1px\", \"className\": \"index_column\"}],\n        rowsPerPage: 25,\n        helpUrl: \"https://colab.research.google.com/notebooks/data_table.ipynb\",\n        suppressOutputScrolling: true,\n        minimumWidth: undefined,\n      });\n    ",
            "text/html": [
              "<div>\n",
              "<style scoped>\n",
              "    .dataframe tbody tr th:only-of-type {\n",
              "        vertical-align: middle;\n",
              "    }\n",
              "\n",
              "    .dataframe tbody tr th {\n",
              "        vertical-align: top;\n",
              "    }\n",
              "\n",
              "    .dataframe thead th {\n",
              "        text-align: right;\n",
              "    }\n",
              "</style>\n",
              "<table border=\"1\" class=\"dataframe\">\n",
              "  <thead>\n",
              "    <tr style=\"text-align: right;\">\n",
              "      <th></th>\n",
              "      <th>Date</th>\n",
              "      <th>Domain</th>\n",
              "      <th>response_GB</th>\n",
              "    </tr>\n",
              "  </thead>\n",
              "  <tbody>\n",
              "    <tr>\n",
              "      <th>0</th>\n",
              "      <td>2020-07-23</td>\n",
              "      <td>cdn-2020-t2.wshareit.com</td>\n",
              "      <td>4082.560819</td>\n",
              "    </tr>\n",
              "  </tbody>\n",
              "</table>\n",
              "</div>"
            ],
            "text/plain": [
              "         Date                    Domain  response_GB\n",
              "0  2020-07-23  cdn-2020-t2.wshareit.com  4082.560819"
            ]
          },
          "metadata": {
            "tags": []
          },
          "execution_count": 11
        }
      ]
    }
  ]
}